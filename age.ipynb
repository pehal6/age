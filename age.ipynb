{
  "nbformat": 4,
  "nbformat_minor": 0,
  "metadata": {
    "colab": {
      "provenance": []
    },
    "kernelspec": {
      "name": "python3",
      "display_name": "Python 3"
    },
    "language_info": {
      "name": "python"
    }
  },
  "cells": [
    {
      "cell_type": "code",
      "source": [
        "from datetime import date\n",
        "\n",
        "day = int(input(\"Enter birth day (DD): \"))\n",
        "month = int(input(\"Enter birth month (MM): \"))\n",
        "year = int(input(\"Enter birth year (YYYY): \"))\n",
        "\n",
        "today = date.today()\n",
        "\n",
        "age = today.year - year - ((today.month, today.day) < (month, day))\n",
        "\n",
        "print(f\"\\nYou are {age} years old.\")\n"
      ],
      "metadata": {
        "id": "_v-JrAsa8tyk"
      },
      "execution_count": null,
      "outputs": []
    }
  ]
}